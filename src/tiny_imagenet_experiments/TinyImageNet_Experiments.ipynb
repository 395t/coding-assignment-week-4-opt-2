{
  "nbformat": 4,
  "nbformat_minor": 2,
  "metadata": {
    "colab": {
      "name": "CS395T_TinyImageNet_Experiments (2).ipynb",
      "provenance": [],
      "collapsed_sections": []
    },
    "kernelspec": {
      "name": "python3",
      "display_name": "Python 3.7.3 64-bit"
    },
    "language_info": {
      "name": "python",
      "version": "3.7.3"
    },
    "accelerator": "GPU",
    "interpreter": {
      "hash": "cbc1630f6ac27d00c9f4ea5ff59d07a3d2920d2fb3e683b05679c37215caa53f"
    }
  },
  "cells": [
    {
      "cell_type": "code",
      "execution_count": 2,
      "source": [
        "import torch\r\n",
        "print(torch.cuda.is_available())"
      ],
      "outputs": [
        {
          "output_type": "stream",
          "name": "stdout",
          "text": [
            "True\n"
          ]
        }
      ],
      "metadata": {
        "colab": {
          "base_uri": "https://localhost:8080/"
        },
        "id": "QbtPj976CayH",
        "outputId": "b88a05f7-1365-4087-dbbc-eac9bc76d014"
      }
    },
    {
      "cell_type": "code",
      "execution_count": 3,
      "source": [
        "# Obtain Dataset\r\n",
        "!wget http://cs231n.stanford.edu/tiny-imagenet-200.zip\r\n",
        "!unzip -qq 'tiny-imagenet-200.zip'"
      ],
      "outputs": [
        {
          "output_type": "stream",
          "name": "stdout",
          "text": [
            "--2021-09-12 01:41:37--  http://cs231n.stanford.edu/tiny-imagenet-200.zip\n",
            "Resolving cs231n.stanford.edu (cs231n.stanford.edu)... 171.64.68.10\n",
            "Connecting to cs231n.stanford.edu (cs231n.stanford.edu)|171.64.68.10|:80... connected.\n",
            "HTTP request sent, awaiting response... 200 OK\n",
            "Length: 248100043 (237M) [application/zip]\n",
            "Saving to: ‘tiny-imagenet-200.zip’\n",
            "\n",
            "tiny-imagenet-200.z 100%[===================>] 236.61M  13.6MB/s    in 21s     \n",
            "\n",
            "2021-09-12 01:41:58 (11.5 MB/s) - ‘tiny-imagenet-200.zip’ saved [248100043/248100043]\n",
            "\n"
          ]
        }
      ],
      "metadata": {
        "colab": {
          "base_uri": "https://localhost:8080/"
        },
        "id": "gV6M6qpeCMtM",
        "outputId": "55a135ae-7c2c-4858-f92c-4617bf463677"
      }
    },
    {
      "cell_type": "markdown",
      "source": [
        "# Loading Data Set and Assembling Training, Validation, and Test Sets"
      ],
      "metadata": {
        "id": "w0QwGFe5_b8x"
      }
    },
    {
      "cell_type": "code",
      "execution_count": 4,
      "source": [
        "# Load training dataset, then split into training, validation, and test sets\r\n",
        "import torch\r\n",
        "import torchvision\r\n",
        "import torchvision.transforms as transforms\r\n",
        "\r\n",
        "BATCH_SIZE = 128\r\n",
        "\r\n",
        "# Number of batches in Training, Validation, Test Sets\r\n",
        "TRAINING_BATCHES = 200\r\n",
        "VALIDATION_BATCHES = 50\r\n",
        "TEST_BATCHES = 100\r\n",
        "\r\n",
        "# Load training data\r\n",
        "train_dir = \"./tiny-imagenet-200/train\"\r\n",
        "train_data = torchvision.datasets.ImageFolder(train_dir, transform=transforms.Compose([transforms.ToTensor()]))\r\n",
        "train_data_loader = torch.utils.data.DataLoader(train_data, batch_size=BATCH_SIZE, shuffle = True)\r\n",
        "\r\n",
        "\r\n",
        "# Loop through data loader and add batches and labels based on constants\r\n",
        "training_set = []\r\n",
        "validation_set = []\r\n",
        "test_set = []\r\n",
        "i = 0\r\n",
        "for set_data in train_data_loader:\r\n",
        "  i += 1\r\n",
        "  if i <= TRAINING_BATCHES:\r\n",
        "    training_set.append(set_data)\r\n",
        "  \r\n",
        "  elif i <= TRAINING_BATCHES + VALIDATION_BATCHES:\r\n",
        "    validation_set.append(set_data)\r\n",
        "  \r\n",
        "  elif i <= TRAINING_BATCHES + VALIDATION_BATCHES + TEST_BATCHES:\r\n",
        "    test_set.append(set_data)\r\n",
        "  \r\n",
        "  else:\r\n",
        "    break\r\n",
        "\r\n",
        "print(len(training_set))\r\n",
        "print(len(validation_set))\r\n",
        "print(len(test_set))\r\n"
      ],
      "outputs": [
        {
          "output_type": "stream",
          "name": "stdout",
          "text": [
            "200\n",
            "50\n",
            "100\n"
          ]
        }
      ],
      "metadata": {
        "colab": {
          "base_uri": "https://localhost:8080/"
        },
        "id": "RNSsVzFZp09M",
        "outputId": "82905bee-610b-4ce7-f5d1-d6115778265c"
      }
    },
    {
      "cell_type": "code",
      "execution_count": 5,
      "source": [
        "# Base Hyperparameters for Experiments\r\n",
        "LR = 1e-4\r\n",
        "MOMENTUM = 0.9\r\n",
        "WEIGHT_DECAY = 1e-6\r\n",
        "EPOCHS = 8\r\n",
        "\r\n",
        "# Function returns optimizer for model\r\n",
        "def get_optimizer (optimizer_spec, model, learning_rate = LR, weight_d = WEIGHT_DECAY, momentum = MOMENTUM):\r\n",
        "  print(learning_rate, weight_d, momentum)\r\n",
        "  if optimizer_spec == \"Adam\":\r\n",
        "    return torch.optim.Adam(model.parameters(), lr = LR, weight_decay=WEIGHT_DECAY, betas=(momentum, 0.999))\r\n",
        "\r\n",
        "  if optimizer_spec == \"Adagrad\":\r\n",
        "    return torch.optim.Adagrad(model.parameters(), lr = LR, weight_decay = WEIGHT_DECAY)\r\n",
        "  \r\n",
        "  if optimizer_spec == \"AMSGrad\":\r\n",
        "    return torch.optim.Adam(model.parameters(), lr = LR, weight_decay=WEIGHT_DECAY, amsgrad = True, betas=(momentum, 0.999))\r\n",
        "\r\n",
        "  if optimizer_spec == \"ADADELTA\":\r\n",
        "    return torch.optim.Adadelta(model.parameters(), lr = LR, weight_decay = WEIGHT_DECAY, betas=(momentum, 0.999))\r\n",
        "  \r\n",
        "  if optimizer_spec == \"AdamW\":\r\n",
        "    return torch.optim.AdamW(model.parameters(), lr = LR, weight_decay = WEIGHT_DECAY, betas=(momentum, 0.999))"
      ],
      "outputs": [],
      "metadata": {
        "id": "wuGuG3gm6Dm3"
      }
    },
    {
      "cell_type": "markdown",
      "source": [
        "# Training Code\r\n",
        "\r\n"
      ],
      "metadata": {
        "id": "s3LiTE_f_uwL"
      }
    },
    {
      "cell_type": "code",
      "execution_count": 6,
      "source": [
        "def train_model(optimizer_spec, learning_rate = LR, weight_d = WEIGHT_DECAY, momentum = MOMENTUM):\r\n",
        "  # Load ResNet50 from Torchvision and modify output layer for TinyImageSet\r\n",
        "  device = torch.device('cuda' if torch.cuda.is_available() else 'cpu')\r\n",
        "  model = torchvision.models.resnet50(pretrained=True, progress=True)\r\n",
        "  model.fc = torch.nn.Linear(in_features=2048, out_features=200)\r\n",
        "  model.to(device)\r\n",
        "  \r\n",
        "  # Define Loss Function and get optimizer\r\n",
        "  train_loss = {}\r\n",
        "  validation_acc = {}\r\n",
        "  loss_f = torch.nn.CrossEntropyLoss()\r\n",
        "  optimizer = get_optimizer(optimizer_spec, model, learning_rate, weight_d, momentum)\r\n",
        "  epoch_loss = []\r\n",
        "  for epoch in range (EPOCHS):\r\n",
        "    print(\"EPOCH : \", epoch)\r\n",
        "    model.train()\r\n",
        "\r\n",
        "    # Iterate through training set, collect loss values and update model\r\n",
        "    for im, truth_labels in training_set:\r\n",
        "      im = im.to(device)\r\n",
        "      truth_labels = truth_labels.to(device)\r\n",
        "      predicted_labels = model(im)\r\n",
        "      loss = loss_f(predicted_labels, truth_labels)\r\n",
        "      loss.backward()\r\n",
        "      optimizer.step()\r\n",
        "      optimizer.zero_grad()\r\n",
        "      epoch_loss.append(loss.item())\r\n",
        "    train_set_loss = torch.FloatTensor(epoch_loss).mean().item()\r\n",
        "    print(\"TRAIN_LOSS : \", train_set_loss)\r\n",
        "    train_loss[epoch] = train_set_loss\r\n",
        "\r\n",
        "    # Iterate through validation set and compute validation accuracy\r\n",
        "    # model.eval()\r\n",
        "    # accuracies = []\r\n",
        "    # for validation_im, validation_labels in validation_set:\r\n",
        "    #   validation_im = validation_im.to(device)\r\n",
        "    #   validation_labels = validation_labels.to(device)\r\n",
        "\r\n",
        "    #   predicted_labels = model(validation_im).argmax(1)\r\n",
        "    #   accuracy = (predicted_labels == validation_labels).float().mean().item()\r\n",
        "    #   accuracies.append(accuracy)\r\n",
        "    \r\n",
        "    # validation_set_accuracy = torch.FloatTensor(accuracies).mean().item()\r\n",
        "    # print(\"******VALIDATION ACCURACY****** : \", validation_set_accuracy)\r\n",
        "    # validation_acc[epoch] = validation_set_accuracy\r\n",
        "\r\n",
        "  # Calculate test set accuracy\r\n",
        "  model.eval()\r\n",
        "  accuracies = []\r\n",
        "  for test_im, test_labels in test_set:\r\n",
        "      test_im = test_im.to(device)\r\n",
        "      test_labels = test_labels.to(device)\r\n",
        "\r\n",
        "      predicted_labels = model(test_im).argmax(1)\r\n",
        "      accuracy = (predicted_labels == test_labels).float().mean().item()\r\n",
        "      accuracies.append(accuracy)\r\n",
        "    \r\n",
        "  test_set_accuracy = torch.FloatTensor(accuracies).mean().item()\r\n",
        "  print(\"******TEST ACCURACY****** : \", test_set_accuracy)\r\n",
        "  return train_loss, validation_acc, test_set_accuracy"
      ],
      "outputs": [],
      "metadata": {
        "id": "mf7OJE46_793"
      }
    },
    {
      "cell_type": "markdown",
      "source": [
        "# Learning Rate Ablation Study where LR in [0.1, 0.01, 0.001, 0.0001, 0.0001]"
      ],
      "metadata": {
        "id": "BBgpdxoEX257"
      }
    },
    {
      "cell_type": "code",
      "execution_count": null,
      "source": [
        "# Optimizers with Initial Hyperparemeters\r\n",
        "train_loss, validation_acc, test_set_accuracy = train_model(\"Adam\")\r\n",
        "train_loss, validation_acc, test_set_accuracy = train_model(\"Adagrad\")\r\n",
        "train_loss, validation_acc, test_set_accuracy = train_model(\"AMSGrad\")\r\n",
        "train_loss, validation_acc, test_set_accuracy = train_model(\"ADADELTA\")\r\n",
        "train_loss, validation_acc, test_set_accuracy = train_model(\"AdamW\")\r\n",
        "\r\n",
        "# Optimizers with learning_rate = 1e-3\r\n",
        "train_loss, validation_acc, test_set_accuracy = train_model(\"Adam\", learning_rate = 1e-3)\r\n",
        "train_loss, validation_acc, test_set_accuracy = train_model(\"Adagrad\", learning_rate = 1e-3)\r\n",
        "train_loss, validation_acc, test_set_accuracy = train_model(\"AMSGrad\", learning_rate = 1e-3)\r\n",
        "train_loss, validation_acc, test_set_accuracy = train_model(\"ADADELTA\", learning_rate = 1e-3)\r\n",
        "train_loss, validation_acc, test_set_accuracy = train_model(\"AdamW\", learning_rate = 1e-3)\r\n",
        "\r\n",
        "# Optimziers with learning _rate = 1e-2\r\n",
        "train_loss, validation_acc, test_set_accuracy = train_model(\"Adam\", learning_rate = 1e-2)\r\n",
        "train_loss, validation_acc, test_set_accuracy = train_model(\"Adagrad\", learning_rate = 1e-2)\r\n",
        "train_loss, validation_acc, test_set_accuracy = train_model(\"AMSGrad\", learning_rate = 1e-2)\r\n",
        "train_loss, validation_acc, test_set_accuracy = train_model(\"ADADELTA\", learning_rate = 1e-2)\r\n",
        "train_loss, validation_acc, test_set_accuracy = train_model(\"AdamW\", learning_rate = 1e-2)\r\n",
        "\r\n",
        "# Optimizers with learning_rate = 1e-1\r\n",
        "train_loss, validation_acc, test_set_accuracy = train_model(\"Adam\", learning_rate = 1e-1)\r\n",
        "train_loss, validation_acc, test_set_accuracy = train_model(\"AMSGrad\", learning_rate = 1e-1)\r\n",
        "train_loss, validation_acc, test_set_accuracy = train_model(\"Adagrad\", learning_rate = 1e-1)\r\n",
        "train_loss, validation_acc, test_set_accuracy = train_model(\"ADADELTA\", learning_rate = 1e-1)\r\n",
        "train_loss, validation_acc, test_set_accuracy = train_model(\"AdamW\", learning_rate = 1e-1)"
      ],
      "outputs": [],
      "metadata": {
        "id": "W8PIAdE5F6w9"
      }
    },
    {
      "cell_type": "markdown",
      "source": [
        "## Results\r\n",
        "\r\n",
        "### Adam:\r\n",
        "* Training Loss (lr = 1e-4): {0: 4.425896644592285, 1: 3.371929407119751, 2: 2.5801074504852295, 3: 2.016770362854004, 4: 1.632663369178772, 5: 1.3659847974777222, 6: 1.1731125116348267, 7: 1.02776300907135}\r\n",
        "Test Accuracy: 0.48789\r\n",
        "\r\n",
        "* Training Loss (lr = 1e-3) : {0: 3.5611255168914795, 1: 2.561326503753662, 2: 1.9035351276397705, 3: 1.469517707824707, 4: 1.183945894241333, 5: 0.9888197779655457, 6: 0.8484781384468079, 7: 0.7429624795913696}\r\n",
        "Test Accuracy: 0.5368\r\n",
        "\r\n",
        "* Training Loss (lr = 1e-2) : {0: 3.522495746612549, 1: 2.5220797061920166, 2: 1.8728904724121094, 3: 1.4464211463928223, 4: 1.1663997173309326, 5: 0.974536120891571, 6: 0.8364256024360657, 7: 0.7324283123016357}\r\n",
        "Test Accuracy: 0.5257\r\n",
        "\r\n",
        "* lr = 1e-1\r\n",
        "Test Accuracy: 0.5241\r\n",
        "\r\n",
        "### Adagrad:\r\n",
        "* Training Loss (lr = 1e-4) : {0: 5.161651611328125, 1: 4.876823902130127, 2: 4.683233737945557, 3: 4.529447555541992, 4: 4.399109363555908, 5: 4.284618377685547, 6: 4.181718826293945, 7: 4.087760925292969}\r\n",
        "Test Accuracy: 0.2168\r\n",
        "\r\n",
        "* Training Loss (lr = 1e-3) : {0: 5.022688388824463, 1: 4.727418422698975, 2: 4.519721984863281, 3: 4.352354526519775, 4: 4.2094926834106445, 5: 4.083588123321533, 6: 3.9703288078308105, 7: 3.867000102996826}\r\n",
        "Test Accuracy: 0.3086\r\n",
        "\r\n",
        "* Training Loss(lr = 1e-2) : {0: 5.040037631988525, 1: 4.744166374206543, 2: 4.536520957946777, 3: 4.369535446166992, 4: 4.227038383483887, 5: 4.101515769958496, 6: 3.988706350326538, 7: 3.885897159576416}\r\n",
        "Test Accuracy : 0.3145\r\n",
        "\r\n",
        "* lr = 1e-1\r\n",
        "Test Accuracy = 0.3147\r\n",
        "\r\n",
        "### AMSGrad:\r\n",
        "* Training Loss(lr = 1e-4) : {0: 4.348701477050781, 1: 3.2864551544189453, 2: 2.5038833618164062, 3: 1.9540863037109375, 4: 1.5809767246246338, 5: 1.3225914239883423, 6: 1.135908842086792, 7: 0.9953016042709351}\r\n",
        "Test accuracy: 0.5202\r\n",
        "\r\n",
        "* Training Loss(lr = 1e-3) : {0: 3.5990564823150635, 1: 2.581326961517334, 2: 1.919771671295166, 3: 1.4830520153045654, 4: 1.1954089403152466, 5: 0.9986127614974976, 6: 0.8570166230201721, 7: 0.7505475878715515}\r\n",
        "Test Accuracy : 0.5534\r\n",
        "\r\n",
        "* Training Loss(lr = 1e-2) : {0: 3.5862488746643066, 1: 2.5801281929016113, 2: 1.9168654680252075, 3: 1.4801580905914307, 4: 1.1934632062911987, 5: 0.9969799518585205, 6: 0.8556011319160461, 7: 0.749309778213501}\r\n",
        "Test Accuracy : 0.5507\r\n",
        "\r\n",
        "* lr = 1e-1\r\n",
        "Test Accuracy : 0.5479\r\n",
        "\r\n",
        "### Adadelta\r\n",
        "* Training Loss (lr = 1e-4) : {0: 5.403592586517334, 1: 5.3982672691345215, 2: 5.39301061630249, 3: 5.387814998626709, 4: 5.3826775550842285, 5: 5.377593994140625, 6: 5.372561454772949, 7: 5.3675761222839355}\r\n",
        "Test Accuracy: 0.00815\r\n",
        "\r\n",
        "* Training Loss (lr = 1e-3) = {0: 5.400874614715576, 1: 5.3956756591796875, 2: 5.390538215637207, 3: 5.3854546546936035, 4: 5.380420684814453, 5: 5.3754353523254395, 6: 5.370493412017822, 7: 5.365593910217285}\r\n",
        "Test Accuracy: 0.006\r\n",
        "\r\n",
        "* Training Loss (lr = 1e-2) = {0: 5.412931442260742, 1: 5.407599925994873, 2: 5.40233850479126, 3: 5.3971381187438965, 4: 5.391995429992676, 5: 5.38690710067749, 6: 5.3818678855896, 7: 5.376876354217529}\r\n",
        "Test Accuracy: 0.005\r\n",
        "\r\n",
        "* lr = 1e-1 Test Accuracy: 0.004\r\n",
        "\r\n",
        "### AdamW\r\n",
        "* Training Loss (lr = 1e-4) : {0: 3.5578384399414062, 1: 2.5577232837677, 2: 1.9018774032592773, 3: 1.469048261642456, 4: 1.1839369535446167, 5: 0.9889798760414124, 6: 0.8487582802772522, 7: 0.7432935833930969}\r\n",
        "Test Accuracy : 0.5502\r\n",
        "\r\n",
        "* Training Loss (lr = 1e-3) : {0: 3.5286338329315186, 1: 2.538924217224121, 2: 1.888421893119812, 3: 1.4586822986602783, 4: 1.175855278968811, 5: 0.9822381734848022, 6: 0.8431072235107422, 7: 0.7384093403816223}\r\n",
        "Test Accuracy : 0.5496\r\n",
        "\r\n",
        "* Training Loss(lr = 1e-2) : {0: 3.5498297214508057, 1: 2.5543622970581055, 2: 1.901167392730713, 3: 1.4689738750457764, 4: 1.1844617128372192, 5: 0.9896549582481384, 6: 0.8492757081985474, 7: 0.7436594367027283}\r\n",
        "Test Accuracy : 0.5498\r\n",
        "\r\n",
        "* lr = 1e-1\r\n",
        "Test accuracy = 0.5506"
      ],
      "metadata": {
        "id": "yellr4IvK5Gj"
      }
    },
    {
      "cell_type": "markdown",
      "source": [
        "# Momentum Ablation Study (lr = 1e-2 and weight_decay = 1e-6)"
      ],
      "metadata": {
        "id": "JU0lZTp2EvsX"
      }
    },
    {
      "cell_type": "code",
      "execution_count": null,
      "source": [
        "# Optimizers with Momentum = 0.50\r\n",
        "train_loss, validation_acc, test_set_accuracy = train_model(\"Adam\", learning_rate = 1e-2, momentum=0.50)\r\n",
        "train_loss, validation_acc, test_set_accuracy = train_model(\"AMSGrad\", learning_rate = 1e-2, momentum=0.50)\r\n",
        "train_loss, validation_acc, test_set_accuracy = train_model(\"AdamW\", learning_rate = 1e-2, momentum=0.50)\r\n",
        "\r\n",
        "# Optimizers with Momentum = 0.50\r\n",
        "train_loss, validation_acc, test_set_accuracy = train_model(\"Adam\", learning_rate = 1e-2, momentum=0.99)\r\n",
        "train_loss, validation_acc, test_set_accuracy = train_model(\"AMSGrad\", learning_rate = 1e-2, momentum=0.99)\r\n",
        "train_loss, validation_acc, test_set_accuracy = train_model(\"AdamW\", learning_rate = 1e-2, momentum=0.99)\r\n",
        "\r\n",
        "# Optimizers with Momentum = 0.50\r\n",
        "train_loss, validation_acc, test_set_accuracy = train_model(\"Adam\", learning_rate = 1e-2, momentum=0.0)\r\n",
        "train_loss, validation_acc, test_set_accuracy = train_model(\"AMSGrad\", learning_rate = 1e-2, momentum=0.0)\r\n",
        "train_loss, validation_acc, test_set_accuracy = train_model(\"AdamW\", learning_rate = 1e-2, momentum=0.0)"
      ],
      "outputs": [],
      "metadata": {
        "id": "U0RBxL_6ZzJB"
      }
    },
    {
      "cell_type": "markdown",
      "source": [
        "# Results (lr = 1e-2 and weight_decay = 1e-6)\r\n",
        "\r\n",
        "Adam:\r\n",
        "* Momentum = 0.5 => Test Accuracy = 0.5303\r\n",
        "* Momemtum = 0.9 => Test Accuracy = 0.5257\r\n",
        "* Momentum = 0.99 => Test Accuracy = 0.5075\r\n",
        "* Momentum = 0.0 => Test Accuracy = 0.5483\r\n",
        "\r\n",
        "AMSGrad:\r\n",
        "* Momentum = 0.5 => Test Accuracy = 0.5531\r\n",
        "* Momentum = 0.9 => Test Accuracy = 0.5507\r\n",
        "* Momentum = 0.99 => Test Accuracy = 0.5080\r\n",
        "* Momentum = 0.0 => Test Accuracy = 0.5433\r\n",
        "\r\n",
        "AdamW:\r\n",
        "* Momentum = 0.5 => Test Accuracy = 0.5470\r\n",
        "* Momentum = 0.9 => Test Accuracy = 0.5498\r\n",
        "* Momentum = 0.99 => Test Accuracy = 0.5073\r\n",
        "* Momentum = 0.0 => Test Accuracy = 0.5476\r\n"
      ],
      "metadata": {
        "id": "x4DF49JnrMDy"
      }
    },
    {
      "cell_type": "markdown",
      "source": [
        "# Weight Decay Ablation Study - Adam vs AdamW"
      ],
      "metadata": {
        "id": "89JIYuhyGwbR"
      }
    },
    {
      "cell_type": "code",
      "execution_count": null,
      "source": [
        "# Optimizers with Decreasing Weight Decay\r\n",
        "train_loss, validation_acc, test_set_accuracy = train_model(\"Adam\", learning_rate = 1e-2, weight_d = 1e-5)\r\n",
        "train_loss, validation_acc, test_set_accuracy = train_model(\"Adam\", learning_rate = 1e-2, weight_d = 1e-4)\r\n",
        "train_loss, validation_acc, test_set_accuracy = train_model(\"Adam\", learning_rate = 1e-2, weight_d = 1e-3)\r\n",
        "\r\n",
        "# Optimizers with Decreasing Weight Decay\r\n",
        "train_loss, validation_acc, test_set_accuracy = train_model(\"AdamW\", learning_rate = 1e-2, weight_d = 1e-5)\r\n",
        "train_loss, validation_acc, test_set_accuracy = train_model(\"AdamW\", learning_rate = 1e-2, weight_d = 1e-4)\r\n",
        "train_loss, validation_acc, test_set_accuracy = train_model(\"AdamW\", learning_rate = 1e-2, weight_d = 1e-3)\r\n"
      ],
      "outputs": [],
      "metadata": {
        "id": "lp26dBIBFH-K"
      }
    },
    {
      "cell_type": "markdown",
      "source": [
        "# Results\r\n",
        "\r\n",
        "Adam:\r\n",
        "* Weight Decay = 1e-6 => 0.5257\r\n",
        "* Weight Decay = 1e-5 => 0.5391\r\n",
        "* Weight Decay = 1e-4 => 0.5445\r\n",
        "* Weight Decay = 1e-3 => 0.5441\r\n",
        "\r\n",
        "AdamW:\r\n",
        "* Weight Decay = 1e-6 => 0.5498\r\n",
        "* Weight Decay = 1e-5 => 0.5395\r\n",
        "* Weight Decay = 1e-4 => 0.5451\r\n",
        "* Weight Decay = 1e-3 => 0.5454\r\n"
      ],
      "metadata": {
        "id": "-sRlrmF-Met1"
      }
    },
    {
      "cell_type": "code",
      "execution_count": 30,
      "source": [
        "import matplotlib.pyplot as plt\r\n",
        "import numpy as np\r\n",
        "\r\n",
        "adam_res = {0: 3.522495746612549, 1: 2.5220797061920166, 2: 1.8728904724121094, 3: 1.4464211463928223, 4: 1.1663997173309326, 5: 0.974536120891571, 6: 0.8364256024360657, 7: 0.7324283123016357}\r\n",
        "adagrad_res = {0: 5.040037631988525, 1: 4.744166374206543, 2: 4.536520957946777, 3: 4.369535446166992, 4: 4.227038383483887, 5: 4.101515769958496, 6: 3.988706350326538, 7: 3.885897159576416}\r\n",
        "adadelta_res = {0: 5.412931442260742, 1: 5.407599925994873, 2: 5.40233850479126, 3: 5.3971381187438965, 4: 5.391995429992676, 5: 5.38690710067749, 6: 5.3818678855896, 7: 5.376876354217529}\r\n",
        "adamw_res = {0: 3.5498297214508057, 1: 2.5543622970581055, 2: 1.901167392730713, 3: 1.4689738750457764, 4: 1.1844617128372192, 5: 0.9896549582481384, 6: 0.8492757081985474, 7: 0.7436594367027283}\r\n",
        "amsgrad_res = {0: 3.5862488746643066, 1: 2.5801281929016113, 2: 1.9168654680252075, 3: 1.4801580905914307, 4: 1.1934632062911987, 5: 0.9969799518585205, 6: 0.8556011319160461, 7: 0.749309778213501}\r\n",
        "\r\n",
        "# Loss vs Training Step Plot\r\n",
        "adam_x = np.zeros(8)\r\n",
        "adagrad_x = np.zeros(8)\r\n",
        "amsgrad_x = np.zeros(8)\r\n",
        "adadelta_x = np.zeros(8)\r\n",
        "adamw_x = np.zeros(8)\r\n",
        "\r\n",
        "adam_y = np.zeros(8)\r\n",
        "adagrad_y = np.zeros(8)\r\n",
        "amsgrad_y = np.zeros(8)\r\n",
        "adadelta_y = np.zeros(8)\r\n",
        "adamw_y = np.zeros(8)\r\n",
        "\r\n",
        "for epoch in adam_res:\r\n",
        "  adam_x[epoch] = epoch + 1\r\n",
        "  adam_y[epoch] = adam_res[epoch]\r\n",
        "for epoch in adagrad_res:\r\n",
        "  adagrad_x[epoch] = epoch + 1\r\n",
        "  adagrad_y[epoch] = adagrad_res[epoch]\r\n",
        "for epoch in amsgrad_res:\r\n",
        "  amsgrad_x[epoch] = epoch + 1\r\n",
        "  amsgrad_y[epoch] = amsgrad_res[epoch]\r\n",
        "for epoch in adadelta_res:\r\n",
        "  adadelta_x[epoch] = epoch + 1\r\n",
        "  adadelta_y[epoch] = adadelta_res[epoch]\r\n",
        "for epoch in adamw_res:\r\n",
        "  adamw_x[epoch] = epoch + 1\r\n",
        "  adamw_y[epoch] = adamw_res[epoch]\r\n",
        "\r\n",
        "plt.plot(adam_x, adam_y, label = \"Adam\")\r\n",
        "plt.plot(adagrad_x, adagrad_y, label = \"Adagrad\")\r\n",
        "plt.plot(amsgrad_x, amsgrad_y, label = \"AMSGrad\")\r\n",
        "plt.plot(adadelta_x, adadelta_y, label = \"Adadelta\")\r\n",
        "plt.plot(adamw_x, adamw_y, label = \"AdamW\")\r\n",
        "plt.title(\"Training Loss vs Epochs - lr = 1e-2, Momentum = 0.9, Weight Decay = 1e-6\")\r\n",
        "plt.legend()\r\n",
        "plt.xlabel('Epoch', fontsize = 18)\r\n",
        "plt.ylabel('Training Loss', fontsize = 18)\r\n",
        "plt.show()\r\n",
        "\r\n",
        " "
      ],
      "outputs": [
        {
          "output_type": "display_data",
          "data": {
            "image/png": "[encoded data removed]",
            "text/plain": [
              "<Figure size 432x288 with 1 Axes>"
            ]
          },
          "metadata": {
            "needs_background": "light"
          }
        }
      ],
      "metadata": {
        "colab": {
          "base_uri": "https://localhost:8080/",
          "height": 303
        },
        "id": "vf-1-33VHReG",
        "outputId": "9accfa7a-37a3-4aca-b28b-abc99deded44"
      }
    },
    {
      "cell_type": "code",
      "execution_count": 31,
      "source": [
        "!pip install tabulate"
      ],
      "outputs": [
        {
          "output_type": "stream",
          "name": "stdout",
          "text": [
            "Requirement already satisfied: tabulate in /usr/local/lib/python3.7/dist-packages (0.8.9)\n"
          ]
        }
      ],
      "metadata": {
        "colab": {
          "base_uri": "https://localhost:8080/"
        },
        "id": "mCiEwDBdOpZE",
        "outputId": "7914841b-6892-48c7-cae7-88e5940683c1"
      }
    },
    {
      "cell_type": "code",
      "execution_count": 33,
      "source": [
        "from tabulate import tabulate\r\n",
        "\r\n",
        "# Final Accuracies for Optimizers for LR = 1e-2, momentum = 0.9 and weight decay = 1e-6\r\n",
        "table = [['Optimizer', 'Test '], ['Adam', 0.5257], ['Adagrad', 0.3145], ['AMSGrad', 0.5507], ['Adadelta', 0.005], ['AdamW', 0.5498]]\r\n",
        "print(tabulate(table, headers='firstrow', tablefmt='fancy_grid'))\r\n"
      ],
      "outputs": [
        {
          "output_type": "stream",
          "name": "stdout",
          "text": [
            "╒═════════════╤═════════╕\n",
            "│ Optimizer   │   Test  │\n",
            "╞═════════════╪═════════╡\n",
            "│ Adam        │  0.5257 │\n",
            "├─────────────┼─────────┤\n",
            "│ Adagrad     │  0.3145 │\n",
            "├─────────────┼─────────┤\n",
            "│ AMSGrad     │  0.5507 │\n",
            "├─────────────┼─────────┤\n",
            "│ Adadelta    │  0.005  │\n",
            "├─────────────┼─────────┤\n",
            "│ AdamW       │  0.5498 │\n",
            "╘═════════════╧═════════╛\n"
          ]
        }
      ],
      "metadata": {
        "colab": {
          "base_uri": "https://localhost:8080/"
        },
        "id": "a-mGKpkWOut2",
        "outputId": "591a01a2-3b0d-43ce-8fd0-b6fd0e0fd277"
      }
    },
    {
      "cell_type": "code",
      "execution_count": null,
      "source": [
        "# Momentum Plot\r\n",
        "optimizers = ['Adam', 'AdamW', 'AMSGrad']\r\n",
        "accuracies = [[0.5303, 0.5531, 0.5470], \r\n",
        "              [0.5257, 0.5507, 0.5498], \r\n",
        "              [0.5075, 0.5080, 0.5073], \r\n",
        "              [0.5483, 0.5433, 0.5476]]\r\n",
        "plt.figure(figsize=(15, 5))\r\n",
        "loc = np.arange(3)\r\n",
        "width = 0.15\r\n",
        "plt.bar(loc, accuracies[0], width, label = \"0.5\")\r\n",
        "plt.bar(loc + width, accuracies[1], width, label = \"0.9\")\r\n",
        "plt.bar(loc + 2 * width, accuracies[2], width, label = \"0.99\")\r\n",
        "plt.bar(loc + 3 * width, accuracies[3], width, label = \"0.0\")\r\n",
        "plt.xticks(loc + width / 2, ('Adam', 'AMSGrad', 'AdamW'))\r\n",
        "plt.title(\"Momentum Affect on Accuracy\")\r\n",
        "plt.xlabel(\"Optimizer\")\r\n",
        "plt.ylabel(\"Accuracy\")\r\n",
        "plt.legend(loc = \"best\")"
      ],
      "outputs": [
        {
          "output_type": "execute_result",
          "data": {
            "text/plain": [
              "<matplotlib.legend.Legend at 0x7f7212960390>"
            ]
          },
          "metadata": {},
          "execution_count": 58
        },
        {
          "output_type": "display_data",
          "data": {
            "image/png": "[encoded data removed]",
            "text/plain": [
              "<Figure size 1080x360 with 1 Axes>"
            ]
          },
          "metadata": {
            "needs_background": "light"
          }
        }
      ],
      "metadata": {
        "colab": {
          "base_uri": "https://localhost:8080/",
          "height": 347
        },
        "id": "Y7P6hIUZQy3e",
        "outputId": "e292790a-b141-4b47-eaa6-e2c2263ea7d1"
      }
    },
    {
      "cell_type": "code",
      "execution_count": 72,
      "source": [
        "# Learning Rate line plot\r\n",
        "learning_rates = [1e-4, 1e-3, 1e-2, 1e-1]\r\n",
        "adam_acc = [0.4879, 0.5368, 0.5257, 0.5241]\r\n",
        "adagrad_acc = [0.2168, 0.3086, 0.3145, 0.3147]\r\n",
        "amsgrad_acc = [0.5202, 0.5534, 0.5507, 0.5479]\r\n",
        "adadelta_acc = [0.008, 0.006, 0.005, 0.004]\r\n",
        "adamw_acc = [0.5502, 0.5496, 0.5498, 0.5506]\r\n",
        "plt.figure(figsize = (10, 10))\r\n",
        "plt.plot(learning_rates, adam_acc, \"-o\", label = \"Adam\")\r\n",
        "plt.plot(learning_rates, adagrad_acc, \"-o\", label = \"Adagrad\")\r\n",
        "plt.plot(learning_rates, amsgrad_acc, \"-o\", label = \"Amsgrad\")\r\n",
        "plt.plot(learning_rates, adadelta_acc, \"-o\", label = \"Adadelta\")\r\n",
        "plt.plot(learning_rates, adamw_acc, \"-o\", label = \"AdamW\")\r\n",
        "plt.legend(loc = \"center\")\r\n",
        "plt.title(\"Learning Rate Impact on Accuracy\")\r\n",
        "plt.xlabel(\"Learning Rate\")\r\n",
        "plt.ylabel(\"Accuracy\")"
      ],
      "outputs": [
        {
          "output_type": "execute_result",
          "data": {
            "text/plain": [
              "Text(0, 0.5, 'Accuracy')"
            ]
          },
          "metadata": {},
          "execution_count": 72
        },
        {
          "output_type": "display_data",
          "data": {
            "image/png": "[encoded data removed]",
            "text/plain": [
              "<Figure size 720x720 with 1 Axes>"
            ]
          },
          "metadata": {
            "needs_background": "light"
          }
        }
      ],
      "metadata": {
        "colab": {
          "base_uri": "https://localhost:8080/",
          "height": 638
        },
        "id": "byidSAqXglUw",
        "outputId": "b6f98a91-9857-428b-8d2c-769c4ba46e87"
      }
    },
    {
      "cell_type": "code",
      "execution_count": 81,
      "source": [
        "rowIds = [\"Adam\", \"AdamW\"]\r\n",
        "table = [['1e-6', '1e-5', '1e-4', '1e-3'], [0.5257, 0.5391, 0.5445, 0.5441], [0.5498, 0.5395, 0.5451, 0.5454]]\r\n",
        "\r\n",
        "print(tabulate(table, headers='firstrow', tablefmt='fancy_grid', showindex=rowIds))"
      ],
      "outputs": [
        {
          "output_type": "stream",
          "name": "stdout",
          "text": [
            "╒═══════╤════════╤════════╤════════╤════════╕\n",
            "│       │   1e-6 │   1e-5 │   1e-4 │   1e-3 │\n",
            "╞═══════╪════════╪════════╪════════╪════════╡\n",
            "│ Adam  │ 0.5257 │ 0.5391 │ 0.5445 │ 0.5441 │\n",
            "├───────┼────────┼────────┼────────┼────────┤\n",
            "│ AdamW │ 0.5498 │ 0.5395 │ 0.5451 │ 0.5454 │\n",
            "╘═══════╧════════╧════════╧════════╧════════╛\n"
          ]
        }
      ],
      "metadata": {
        "colab": {
          "base_uri": "https://localhost:8080/"
        },
        "id": "FZoiqYBJjI1_",
        "outputId": "f1454459-8622-4214-d723-7cd65a50ec09"
      }
    }
  ]
}