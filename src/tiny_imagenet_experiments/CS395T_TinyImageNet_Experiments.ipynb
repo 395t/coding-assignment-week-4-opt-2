{
  "nbformat": 4,
  "nbformat_minor": 0,
  "metadata": {
    "colab": {
      "name": "CS395T_TinyImageNet_Experiments.ipynb",
      "provenance": [],
      "collapsed_sections": []
    },
    "kernelspec": {
      "name": "python3",
      "display_name": "Python 3"
    },
    "language_info": {
      "name": "python"
    },
    "accelerator": "GPU"
  },
  "cells": [
    {
      "cell_type": "code",
      "metadata": {
        "colab": {
          "base_uri": "https://localhost:8080/"
        },
        "id": "QbtPj976CayH",
        "outputId": "09eadb57-7000-4770-8334-1340c6b19637"
      },
      "source": [
        "import torch\n",
        "print(torch.cuda.is_available())"
      ],
      "execution_count": 1,
      "outputs": [
        {
          "output_type": "stream",
          "name": "stdout",
          "text": [
            "True\n"
          ]
        }
      ]
    },
    {
      "cell_type": "code",
      "metadata": {
        "colab": {
          "base_uri": "https://localhost:8080/"
        },
        "id": "gV6M6qpeCMtM",
        "outputId": "dd1098b8-eca3-4354-f015-85a7061b47ae"
      },
      "source": [
        "# Obtain Dataset\n",
        "!wget http://cs231n.stanford.edu/tiny-imagenet-200.zip\n",
        "!unzip -qq 'tiny-imagenet-200.zip'"
      ],
      "execution_count": 2,
      "outputs": [
        {
          "output_type": "stream",
          "name": "stdout",
          "text": [
            "--2021-09-11 04:31:13--  http://cs231n.stanford.edu/tiny-imagenet-200.zip\n",
            "Resolving cs231n.stanford.edu (cs231n.stanford.edu)... 171.64.68.10\n",
            "Connecting to cs231n.stanford.edu (cs231n.stanford.edu)|171.64.68.10|:80... connected.\n",
            "HTTP request sent, awaiting response... 200 OK\n",
            "Length: 248100043 (237M) [application/zip]\n",
            "Saving to: ‘tiny-imagenet-200.zip’\n",
            "\n",
            "tiny-imagenet-200.z 100%[===================>] 236.61M  20.2MB/s    in 13s     \n",
            "\n",
            "2021-09-11 04:31:27 (18.1 MB/s) - ‘tiny-imagenet-200.zip’ saved [248100043/248100043]\n",
            "\n"
          ]
        }
      ]
    },
    {
      "cell_type": "markdown",
      "metadata": {
        "id": "w0QwGFe5_b8x"
      },
      "source": [
        "# Loading Data Set and Assembling Training, Validation, and Test Sets"
      ]
    },
    {
      "cell_type": "code",
      "metadata": {
        "colab": {
          "base_uri": "https://localhost:8080/"
        },
        "id": "RNSsVzFZp09M",
        "outputId": "4cddecef-0e8b-45ff-ad68-039797b3eef5"
      },
      "source": [
        "# Load training dataset, then split into training, validation, and test sets\n",
        "import torch\n",
        "import torchvision\n",
        "import torchvision.transforms as transforms\n",
        "\n",
        "BATCH_SIZE = 32\n",
        "\n",
        "# Number of batches in Training, Validation, Test Sets\n",
        "TRAINING_BATCHES = 1000\n",
        "VALIDATION_BATCHES = 100\n",
        "TEST_BATCHES = 200\n",
        "\n",
        "# Load training data\n",
        "train_dir = \"./tiny-imagenet-200/train\"\n",
        "train_data = torchvision.datasets.ImageFolder(train_dir, transform=transforms.Compose([transforms.ToTensor()]))\n",
        "train_data_loader = torch.utils.data.DataLoader(train_data, batch_size=BATCH_SIZE, shuffle = True)\n",
        "\n",
        "\n",
        "# Loop through data loader and add batches and labels based on constants\n",
        "training_set = []\n",
        "validation_set = []\n",
        "test_set = []\n",
        "i = 0\n",
        "for set_data in train_data_loader:\n",
        "  i += 1\n",
        "  if i <= TRAINING_BATCHES:\n",
        "    training_set.append(set_data)\n",
        "  \n",
        "  elif i <= TRAINING_BATCHES + VALIDATION_BATCHES:\n",
        "    validation_set.append(set_data)\n",
        "  \n",
        "  elif i <= TRAINING_BATCHES + VALIDATION_BATCHES + TEST_BATCHES:\n",
        "    test_set.append(set_data)\n",
        "  \n",
        "  else:\n",
        "    break\n",
        "\n",
        "print(len(training_set))\n",
        "print(len(validation_set))\n",
        "print(len(test_set))\n"
      ],
      "execution_count": 18,
      "outputs": [
        {
          "output_type": "stream",
          "name": "stdout",
          "text": [
            "500\n",
            "100\n",
            "200\n"
          ]
        }
      ]
    },
    {
      "cell_type": "markdown",
      "metadata": {
        "id": "s3LiTE_f_uwL"
      },
      "source": [
        "# Training Code\n",
        "\n"
      ]
    },
    {
      "cell_type": "code",
      "metadata": {
        "id": "mf7OJE46_793"
      },
      "source": [
        "LR = 1e-4\n",
        "MOMENTUM = 0.9\n",
        "WEIGHT_DECAY = 1e-6\n",
        "EPOCHS = 10\n",
        "\n",
        "model = torchvision.models.resnet50(pretrained=True, progress=True)\n",
        "model.fc = torch.nn.Linear(in_features=2048, out_features=200)\n",
        "device = torch.device('cuda' if torch.cuda.is_available() else 'cpu')\n",
        "\n",
        "model.to(device)\n",
        "\n",
        "optimizers = {\n",
        "    \"Adam\" : torch.optim.Adam(model.parameters(), lr = LR, weight_decay=WEIGHT_DECAY)\n",
        "}\n",
        "\n",
        "def train_model(optimizer_spec):\n",
        "  loss_f = torch.nn.CrossEntropyLoss()\n",
        "  optimizer = optimizers[optimizer_spec]\n",
        "  epoch_loss = []\n",
        "  for epoch in range (EPOCHS):\n",
        "    print(\"EPOCH : \", epoch)\n",
        "    model.train()\n",
        "    for im, truth_labels in training_set:\n",
        "      im = im.to(device)\n",
        "      truth_labels = truth_labels.to(device)\n",
        "\n",
        "      predicted_labels = model(im)\n",
        "      loss = loss_f(predicted_labels, truth_labels)\n",
        "      loss.backward()\n",
        "      optimizer.step()\n",
        "      optimizer.zero_grad()\n",
        "      epoch_loss.append(loss.item())\n",
        "      # accuracy = (predicted_labels.argmax(1) == truth_labels).float().sum().item()\n",
        "      # print(\"TRAIN_ACCURACY : \", accuracy)\n",
        "      train_set_accuracy = torch.FloatTensor(epoch_loss).mean().item()\n",
        "    print(\"TRAIN_ACCURACY : \", train_set_accuracy)\n",
        "\n",
        "    model.eval()\n",
        "    accuracies = []\n",
        "    for validation_im, validation_labels in validation_set:\n",
        "      validation_im = validation_im.to(device)\n",
        "      validation_labels = validation_labels.to(device)\n",
        "\n",
        "      predicted_labels = model(validation_im).argmax(1)\n",
        "      accuracy = (predicted_labels == validation_labels).float().mean().item()\n",
        "      accuracies.append(accuracy)\n",
        "    \n",
        "    validation_set_accuracy = torch.FloatTensor(accuracies).mean().item()\n",
        "    print(\"******VALIDATION ACCURACY*************** : \", validation_set_accuracy)\n"
      ],
      "execution_count": 65,
      "outputs": []
    },
    {
      "cell_type": "code",
      "metadata": {
        "colab": {
          "base_uri": "https://localhost:8080/"
        },
        "id": "W8PIAdE5F6w9",
        "outputId": "2c92a089-9c5b-4255-a8ac-7da58e1051a0"
      },
      "source": [
        "train_model(\"Adam\")"
      ],
      "execution_count": 66,
      "outputs": [
        {
          "output_type": "stream",
          "name": "stdout",
          "text": [
            "EPOCH :  0\n",
            "TRAIN_ACCURACY :  3.591287136077881\n",
            "******VALIDATION ACCURACY*************** :  0.41187500953674316\n",
            "EPOCH :  1\n",
            "TRAIN_ACCURACY :  2.6111855506896973\n",
            "******VALIDATION ACCURACY*************** :  0.46187499165534973\n",
            "EPOCH :  2\n",
            "TRAIN_ACCURACY :  1.9248934984207153\n",
            "******VALIDATION ACCURACY*************** :  0.47312501072883606\n",
            "EPOCH :  3\n",
            "TRAIN_ACCURACY :  1.4792784452438354\n",
            "******VALIDATION ACCURACY*************** :  0.47593748569488525\n",
            "EPOCH :  4\n",
            "TRAIN_ACCURACY :  1.1894357204437256\n",
            "******VALIDATION ACCURACY*************** :  0.48625001311302185\n",
            "EPOCH :  5\n",
            "TRAIN_ACCURACY :  0.9924259185791016\n",
            "******VALIDATION ACCURACY*************** :  0.49687498807907104\n",
            "EPOCH :  6\n",
            "TRAIN_ACCURACY :  0.8512016534805298\n",
            "******VALIDATION ACCURACY*************** :  0.5018749833106995\n",
            "EPOCH :  7\n",
            "TRAIN_ACCURACY :  0.7450770139694214\n",
            "******VALIDATION ACCURACY*************** :  0.49906250834465027\n",
            "EPOCH :  8\n",
            "TRAIN_ACCURACY :  0.6624607443809509\n",
            "******VALIDATION ACCURACY*************** :  0.5006250143051147\n",
            "EPOCH :  9\n",
            "TRAIN_ACCURACY :  0.5963277816772461\n",
            "******VALIDATION ACCURACY*************** :  0.49906250834465027\n"
          ]
        }
      ]
    },
    {
      "cell_type": "code",
      "metadata": {
        "id": "43eGGFJQUfo1"
      },
      "source": [
        "Resnet18 le 1e-4\n",
        "\n",
        "EPOCH :  0\n",
        "TRAINING_LOSS :  4.052446381568909\n",
        "******VALIDATION ACCURACY*************** :  0.31468749046325684\n",
        "EPOCH :  1\n",
        "TRAINING_LOSS :  6.134171817779541\n",
        "******VALIDATION ACCURACY*************** :  0.36937499046325684\n",
        "EPOCH :  2\n",
        "TRAINING_LOSS :  6.999579892873764\n",
        "******VALIDATION ACCURACY*************** :  0.375\n",
        "EPOCH :  3\n",
        "TRAINING_LOSS :  7.234807624876499\n",
        "******VALIDATION ACCURACY*************** :  0.37562501430511475\n",
        "EPOCH :  4\n",
        "TRAINING_LOSS :  7.292210902020336\n",
        "******VALIDATION ACCURACY*************** :  0.3918749988079071\n",
        "EPOCH :  5\n",
        "TRAINING_LOSS :  7.315568085754291\n",
        "******VALIDATION ACCURACY*************** :  0.39125001430511475\n",
        "EPOCH :  6\n",
        "TRAINING_LOSS :  7.32907930099219\n",
        "******VALIDATION ACCURACY*************** :  0.39125001430511475\n",
        "EPOCH :  7\n",
        "TRAINING_LOSS :  7.33790581655316\n",
        "******VALIDATION ACCURACY*************** :  0.3918749988079071\n",
        "EPOCH :  8\n",
        "TRAINING_LOSS :  7.343977942521218\n",
        "******VALIDATION ACCURACY*************** :  0.3918749988079071\n",
        "EPOCH :  9\n",
        "\n",
        "Resnet 50 1e-4\n",
        "\n",
        "Best Validation Accuracy : 0.48\n",
        "\n",
        "EPOCH :  0\n",
        "TRAIN_ACCURACY :  3.591287136077881\n",
        "******VALIDATION ACCURACY*************** :  0.41187500953674316\n",
        "EPOCH :  1\n",
        "TRAIN_ACCURACY :  2.6111855506896973\n",
        "******VALIDATION ACCURACY*************** :  0.46187499165534973\n",
        "EPOCH :  2\n",
        "TRAIN_ACCURACY :  1.9248934984207153\n",
        "******VALIDATION ACCURACY*************** :  0.47312501072883606\n",
        "EPOCH :  3\n",
        "TRAIN_ACCURACY :  1.4792784452438354\n",
        "******VALIDATION ACCURACY*************** :  0.47593748569488525\n",
        "EPOCH :  4\n",
        "TRAIN_ACCURACY :  1.1894357204437256\n",
        "******VALIDATION ACCURACY*************** :  0.48625001311302185\n",
        "EPOCH :  5\n",
        "TRAIN_ACCURACY :  0.9924259185791016\n",
        "******VALIDATION ACCURACY*************** :  0.49687498807907104\n",
        "EPOCH :  6\n",
        "TRAIN_ACCURACY :  0.8512016534805298\n",
        "******VALIDATION ACCURACY*************** :  0.5018749833106995\n",
        "EPOCH :  7\n",
        "TRAIN_ACCURACY :  0.7450770139694214\n",
        "******VALIDATION ACCURACY*************** :  0.49906250834465027\n",
        "EPOCH :  8\n",
        "TRAIN_ACCURACY :  0.6624607443809509\n",
        "******VALIDATION ACCURACY*************** :  0.5006250143051147\n",
        "EPOCH :  9\n",
        "TRAIN_ACCURACY :  0.5963277816772461\n",
        "******VALIDATION ACCURACY*************** :  0.49906250834465027"
      ],
      "execution_count": null,
      "outputs": []
    }
  ]
}